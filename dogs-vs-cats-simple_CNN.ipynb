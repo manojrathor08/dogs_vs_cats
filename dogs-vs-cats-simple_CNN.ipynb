{
 "cells": [
  {
   "cell_type": "code",
   "execution_count": 1,
   "metadata": {
    "_cell_guid": "b1076dfc-b9ad-4769-8c92-a6c4dae69d19",
    "_uuid": "8f2839f25d086af736a60e9eeb907d3b93b6e0e5"
   },
   "outputs": [
    {
     "name": "stdout",
     "output_type": "stream",
     "text": [
      "/kaggle/input/dogs-vs-cats-redux-kernels-edition/train.zip\n",
      "/kaggle/input/dogs-vs-cats-redux-kernels-edition/sample_submission.csv\n",
      "/kaggle/input/dogs-vs-cats-redux-kernels-edition/test.zip\n"
     ]
    }
   ],
   "source": [
    "# This Python 3 environment comes with many helpful analytics libraries installed\n",
    "# It is defined by the kaggle/python Docker image: https://github.com/kaggle/docker-python\n",
    "# For example, here's several helpful packages to load\n",
    "\n",
    "import numpy as np # linear algebra\n",
    "import pandas as pd # data processing, CSV file I/O (e.g. pd.read_csv)\n",
    "\n",
    "# Input data files are available in the read-only \"../input/\" directory\n",
    "# For example, running this (by clicking run or pressing Shift+Enter) will list all files under the input directory\n",
    "\n",
    "import os\n",
    "for dirname, _, filenames in os.walk('/kaggle/input'):\n",
    "    for filename in filenames:\n",
    "        print(os.path.join(dirname, filename))\n",
    "\n",
    "# You can write up to 5GB to the current directory (/kaggle/working/) that gets preserved as output when you create a version using \"Save & Run All\" \n",
    "# You can also write temporary files to /kaggle/temp/, but they won't be saved outside of the current session"
   ]
  },
  {
   "cell_type": "markdown",
   "execution_count": null,
   "metadata": {},
   "source": [
    "# loading libraries"
   ]
  },
  {
   "cell_type": "code",
   "execution_count": 2,
   "metadata": {
    "_cell_guid": "79c7e3d0-c299-4dcb-8224-4455121ee9b0",
    "_uuid": "d629ff2d2480ee46fbb7e2d37f6b5fab8052498a"
   },
   "outputs": [],
   "source": [
    "import os\n",
    "import glob\n",
    "from os import listdir\n",
    "import numpy as np\n",
    "import pandas as pd\n",
    "import tensorflow as tf\n",
    "from tensorflow import keras\n",
    "from tensorflow.keras.models import load_model"
   ]
  },
  {
   "cell_type": "code",
   "execution_count": 3,
   "metadata": {},
   "outputs": [],
   "source": [
    "from numpy.random import seed\n",
    "seed(1)\n",
    "tf.random.set_seed(1)"
   ]
  },
  {
   "cell_type": "code",
   "execution_count": 4,
   "metadata": {},
   "outputs": [],
   "source": [
    "#!pip3 install -U scikit-learn\n",
    "import sklearn\n",
    "from sklearn import model_selection"
   ]
  },
  {
   "cell_type": "markdown",
   "execution_count": null,
   "metadata": {},
   "source": [
    "# load data"
   ]
  },
  {
   "cell_type": "code",
   "execution_count": 5,
   "metadata": {},
   "outputs": [],
   "source": [
    "import zipfile\n",
    "# Will unzip the files so that you can see them..\n",
    "with zipfile.ZipFile(\"../input/dogs-vs-cats-redux-kernels-edition/train.zip\",\"r\") as z:\n",
    "    z.extractall(\".\")\n",
    "with zipfile.ZipFile(\"../input/dogs-vs-cats-redux-kernels-edition/test.zip\",\"r\") as z:\n",
    "    z.extractall(\".\")"
   ]
  },
  {
   "cell_type": "code",
   "execution_count": 6,
   "metadata": {},
   "outputs": [],
   "source": [
    "# images= np.random.permutation(listdir('train/'))"
   ]
  },
  {
   "cell_type": "code",
   "execution_count": 7,
   "metadata": {},
   "outputs": [],
   "source": [
    "# images[0],images[1],images[2],images[3]"
   ]
  },
  {
   "cell_type": "code",
   "execution_count": 8,
   "metadata": {},
   "outputs": [],
   "source": [
    "# images = []\n",
    "# labels=[]\n",
    "# for file in listdir('train/'):\n",
    "#     label=1.0\n",
    "#     if file.startswith('cat'):\n",
    "#         label=0.0\n",
    "#     image = keras.preprocessing.image.load_img('train/'+file,target_size=(150,150))\n",
    "#     image_array= keras.preprocessing.image.img_to_array(image)\n",
    "#     images.append(image_array)\n",
    "#     labels.append(label)\n",
    "# images= np.asarray(images)\n",
    "# labels=np.asarray(labels)\n"
   ]
  },
  {
   "cell_type": "code",
   "execution_count": 9,
   "metadata": {},
   "outputs": [],
   "source": [
    "# labels.shape"
   ]
  },
  {
   "cell_type": "code",
   "execution_count": 10,
   "metadata": {},
   "outputs": [],
   "source": [
    "# x_train,x_valid,y_train,y_valid = model_selection.train_test_split(images,labels,test_size=0.20,random_state=42,shuffle=True)"
   ]
  },
  {
   "cell_type": "code",
   "execution_count": 11,
   "metadata": {},
   "outputs": [],
   "source": [
    "# from numpy import savez_compressed\n",
    "# from  numpy import load"
   ]
  },
  {
   "cell_type": "code",
   "execution_count": 12,
   "metadata": {},
   "outputs": [],
   "source": [
    "# savez_compressed('kaggle/working/x_train.npz', x_train=x_train)\n",
    "# savez_compressed('kaggle/working/y_train.npz', y_train=y_train)\n",
    "# savez_compressed('kaggle/working/x_valid.npz', x_valid=x_valid)\n",
    "# savez_compressed('kaggle/working/y_valid.npz', y_valid=y_valid)"
   ]
  },
  {
   "cell_type": "code",
   "execution_count": 13,
   "metadata": {},
   "outputs": [
    {
     "data": {
      "text/plain": [
       "'train_datagen = keras.preprocessing.image.ImageDataGenerator(rescale=1./255.)\\ntrain_generator=train_datagen.flow(x_train,y_train,batch_size=32,shuffle=True)\\nvalid_datagen = keras.preprocessing.image.ImageDataGenerator(rescale=1./255.)\\nvalid_generator=train_datagen.flow(x_valid,y_valid,batch_size=32,shuffle=True)'"
      ]
     },
     "execution_count": 13,
     "metadata": {},
     "output_type": "execute_result"
    }
   ],
   "source": [
    "\"\"\"train_datagen = keras.preprocessing.image.ImageDataGenerator(rescale=1./255.)\n",
    "train_generator=train_datagen.flow(x_train,y_train,batch_size=32,shuffle=True)\n",
    "valid_datagen = keras.preprocessing.image.ImageDataGenerator(rescale=1./255.)\n",
    "valid_generator=train_datagen.flow(x_valid,y_valid,batch_size=32,shuffle=True)\"\"\""
   ]
  },
  {
   "cell_type": "code",
   "execution_count": 14,
   "metadata": {},
   "outputs": [],
   "source": [
    "# uncomment if want to use flow from directory\n",
    "!mkdir train/train_data\n",
    "!mkdir train/valid_data\n",
    "!mkdir train/train_data/cats\n",
    "!mkdir train/train_data/dogs\n",
    "!mkdir train/valid_data/cats\n",
    "!mkdir train/valid_data/dogs\n",
    "cats_images = [os.path.basename(x) for x in glob.glob('train/cat.*.jpg')]\n",
    "cats_imags= np.random.permutation(cats_images)\n",
    "dogs_images = [os.path.basename(x) for x in glob.glob('train/dog.*.jpg')]\n",
    "dogs_imags= np.random.permutation(dogs_images)\n"
   ]
  },
  {
   "cell_type": "code",
   "execution_count": 15,
   "metadata": {},
   "outputs": [],
   "source": [
    "# moving images in dogs and cats folder inside train and valid folder\n",
    "for i in range(int(0.20*len(cats_images))):\n",
    "    os.rename('train/'+cats_images[i],'train/valid_data/cats/'+cats_images[i])\n",
    "for i in range(int(0.20*len(cats_images)),len(cats_images)):\n",
    "    os.rename('train/'+cats_images[i],'train/train_data/cats/'+cats_images[i])\n",
    "for i in range(int(0.20*len(dogs_images))):\n",
    "    os.rename('train/'+dogs_images[i],'train/valid_data/dogs/'+dogs_images[i])\n",
    "for i in range(int(0.20*len(dogs_images)),len(dogs_images)):\n",
    "    os.rename('train/'+dogs_images[i],'train/train_data/dogs/'+dogs_images[i])"
   ]
  },
  {
   "cell_type": "code",
   "execution_count": 16,
   "metadata": {},
   "outputs": [],
   "source": [
    "# !mv  -v train/cat.*.jpg train/train_data/cats\n",
    "# !mv  -v train/dog.*.jpg train/train_data/dogs"
   ]
  },
  {
   "cell_type": "code",
   "execution_count": 17,
   "metadata": {},
   "outputs": [
    {
     "name": "stdout",
     "output_type": "stream",
     "text": [
      "Found 20000 images belonging to 2 classes.\n",
      "Found 5000 images belonging to 2 classes.\n"
     ]
    }
   ],
   "source": [
    "train_datagen = keras.preprocessing.image.ImageDataGenerator(rescale=1./255.,rotation_range=40,\n",
    "        width_shift_range=0.2,\n",
    "        height_shift_range=0.2,\n",
    "        shear_range=0.2,\n",
    "        zoom_range=0.2,\n",
    "        horizontal_flip=True,\n",
    "        fill_mode='nearest')\n",
    "train_generator=train_datagen.flow_from_directory('train/train_data',target_size=(200,200),batch_size=32,class_mode='categorical',shuffle=True)\n",
    "valid_datagen = keras.preprocessing.image.ImageDataGenerator(rescale=1./255.)\n",
    "valid_generator=train_datagen.flow_from_directory('train/valid_data',target_size=(200,200),batch_size=32,class_mode='categorical',shuffle=True)\n"
   ]
  },
  {
   "cell_type": "markdown",
   "execution_count": null,
   "metadata": {},
   "source": [
    "# conv_model"
   ]
  },
  {
   "cell_type": "code",
   "execution_count": 18,
   "metadata": {},
   "outputs": [],
   "source": [
    "def model():\n",
    "    input1= keras.layers.Input(shape=(200,200,3,))\n",
    "    #x = keras.layers.BatchNormalization()(input1)\n",
    "    x= keras.layers.Conv2D(filters=32,kernel_size=(3,3),strides=1,padding='same',activation='relu')(input1)\n",
    "    x= keras.layers.Conv2D(filters=32,kernel_size=(3,3),strides=1,padding='same',activation='relu')(x)\n",
    "    x = keras.layers.MaxPool2D(pool_size=2)(x)\n",
    "    x = keras.layers.BatchNormalization()(x)\n",
    "    x= keras.layers.Conv2D(filters=64,kernel_size=(3,3),strides=1,padding='same',activation='relu')(x)\n",
    "    x= keras.layers.Conv2D(filters=64,kernel_size=(3,3),strides=1,padding='same',activation='relu')(x)\n",
    "    x = keras.layers.MaxPool2D(pool_size=2)(x)\n",
    "    x = keras.layers.BatchNormalization()(x)\n",
    "    x= keras.layers.Conv2D(filters=128,kernel_size=(3,3),strides=1,padding='same',activation='relu')(x)\n",
    "    x= keras.layers.Conv2D(filters=128,kernel_size=(3,3),strides=1,padding='same',activation='relu')(x)\n",
    "    x = keras.layers.MaxPool2D(pool_size=2)(x)\n",
    "    x = keras.layers.BatchNormalization()(x)\n",
    "    x= keras.layers.Conv2D(filters=256,kernel_size=(3,3),strides=1,padding='same',activation='relu')(x)\n",
    "    x= keras.layers.Conv2D(filters=256,kernel_size=(3,3),strides=1,padding='same',activation='relu')(x)\n",
    "    x = keras.layers.MaxPool2D(pool_size=2)(x)\n",
    "    x = keras.layers.BatchNormalization()(x)\n",
    "    x= keras.layers.Flatten()(x)\n",
    "    x = keras.layers.Dropout(0.5)(x)\n",
    "    x= keras.layers.Dense(512,activation='relu')(x)\n",
    "    x = keras.layers.BatchNormalization()(x)\n",
    "    x = keras.layers.Dropout(0.5)(x)\n",
    "    x= keras.layers.Dense(128,activation='relu')(x)\n",
    "    x = keras.layers.BatchNormalization()(x)\n",
    "    x = keras.layers.Dropout(0.2)(x)\n",
    "    output1= keras.layers.Dense(2,activation='softmax')(x)\n",
    "    conv_model= keras.models.Model(inputs=input1,outputs=output1)\n",
    "    return conv_model"
   ]
  },
  {
   "cell_type": "code",
   "execution_count": 19,
   "metadata": {},
   "outputs": [],
   "source": [
    "conv_model= model()"
   ]
  },
  {
   "cell_type": "code",
   "execution_count": 20,
   "metadata": {},
   "outputs": [],
   "source": [
    "# This function keeps the initial learning rate for the first ten epochs  \n",
    "# and decreases it exponentially after that.  \n",
    "def scheduler(epoch, lr):\n",
    "    if epoch < 5:\n",
    "        return lr\n",
    "    else:\n",
    "        return lr * np.math.exp(-0.1)"
   ]
  },
  {
   "cell_type": "code",
   "execution_count": 21,
   "metadata": {},
   "outputs": [
    {
     "data": {
      "text/plain": [
       "0.09048374180359596"
      ]
     },
     "execution_count": 21,
     "metadata": {},
     "output_type": "execute_result"
    }
   ],
   "source": [
    ".1 * np.math.exp(-0.1)"
   ]
  },
  {
   "cell_type": "code",
   "execution_count": 22,
   "metadata": {},
   "outputs": [
    {
     "name": "stdout",
     "output_type": "stream",
     "text": [
      "/kaggle/working\r\n"
     ]
    }
   ],
   "source": [
    "!pwd"
   ]
  },
  {
   "cell_type": "code",
   "execution_count": 23,
   "metadata": {},
   "outputs": [],
   "source": [
    "checkpoint_filepath = '/kaggle/working/'\n",
    "model_checkpoint_callback = tf.keras.callbacks.ModelCheckpoint(\n",
    "    filepath=checkpoint_filepath,\n",
    "    save_weights_only=True,\n",
    "    monitor='val_accuracy',\n",
    "    mode='max',\n",
    "    save_best_only=True)"
   ]
  },
  {
   "cell_type": "code",
   "execution_count": 24,
   "metadata": {},
   "outputs": [],
   "source": [
    "tensorboard_callback = tf.keras.callbacks.TensorBoard(log_dir='/kaggle/working/logs',\n",
    "                                                      profile_batch=5)"
   ]
  },
  {
   "cell_type": "code",
   "execution_count": 25,
   "metadata": {},
   "outputs": [],
   "source": [
    "early_stopping_callback = tf.keras.callbacks.EarlyStopping(monitor='val_accuracy', patience=5)"
   ]
  },
  {
   "cell_type": "code",
   "execution_count": 26,
   "metadata": {},
   "outputs": [
    {
     "name": "stdout",
     "output_type": "stream",
     "text": [
      "Epoch 1/100\n",
      "625/625 [==============================] - 287s 459ms/step - loss: 0.7122 - accuracy: 0.5588 - val_loss: 0.7366 - val_accuracy: 0.5024 - lr: 0.0100\n",
      "Epoch 2/100\n",
      "625/625 [==============================] - 289s 462ms/step - loss: 0.6436 - accuracy: 0.6299 - val_loss: 0.7236 - val_accuracy: 0.5654 - lr: 0.0100\n",
      "Epoch 3/100\n",
      "625/625 [==============================] - 293s 469ms/step - loss: 0.6119 - accuracy: 0.6654 - val_loss: 0.8367 - val_accuracy: 0.5768 - lr: 0.0100\n",
      "Epoch 4/100\n",
      "625/625 [==============================] - 292s 468ms/step - loss: 0.5693 - accuracy: 0.7059 - val_loss: 0.6623 - val_accuracy: 0.6114 - lr: 0.0100\n",
      "Epoch 5/100\n",
      "625/625 [==============================] - 303s 484ms/step - loss: 0.5350 - accuracy: 0.7363 - val_loss: 0.5820 - val_accuracy: 0.7072 - lr: 0.0100\n",
      "Epoch 6/100\n",
      "625/625 [==============================] - 298s 477ms/step - loss: 0.5063 - accuracy: 0.7516 - val_loss: 0.5689 - val_accuracy: 0.7082 - lr: 0.0090\n",
      "Epoch 7/100\n",
      "625/625 [==============================] - 293s 469ms/step - loss: 0.4732 - accuracy: 0.7770 - val_loss: 0.5524 - val_accuracy: 0.7266 - lr: 0.0082\n",
      "Epoch 8/100\n",
      "625/625 [==============================] - 286s 458ms/step - loss: 0.4484 - accuracy: 0.7911 - val_loss: 0.4304 - val_accuracy: 0.8048 - lr: 0.0074\n",
      "Epoch 9/100\n",
      "625/625 [==============================] - 283s 453ms/step - loss: 0.4914 - accuracy: 0.7581 - val_loss: 0.6814 - val_accuracy: 0.6188 - lr: 0.0067\n",
      "Epoch 10/100\n",
      "625/625 [==============================] - 282s 452ms/step - loss: 0.5521 - accuracy: 0.7165 - val_loss: 0.5118 - val_accuracy: 0.7540 - lr: 0.0061\n",
      "Epoch 11/100\n",
      "625/625 [==============================] - 281s 450ms/step - loss: 0.4637 - accuracy: 0.7828 - val_loss: 0.4417 - val_accuracy: 0.7968 - lr: 0.0055\n",
      "Epoch 12/100\n",
      "625/625 [==============================] - 283s 453ms/step - loss: 0.4411 - accuracy: 0.7939 - val_loss: 0.4089 - val_accuracy: 0.8058 - lr: 0.0050\n",
      "Epoch 13/100\n",
      "625/625 [==============================] - 282s 452ms/step - loss: 0.3787 - accuracy: 0.8322 - val_loss: 0.3757 - val_accuracy: 0.8304 - lr: 0.0045\n",
      "Epoch 14/100\n",
      "625/625 [==============================] - 281s 449ms/step - loss: 0.3656 - accuracy: 0.8371 - val_loss: 0.3836 - val_accuracy: 0.8302 - lr: 0.0041\n",
      "Epoch 15/100\n",
      "625/625 [==============================] - 280s 449ms/step - loss: 0.3392 - accuracy: 0.8504 - val_loss: 0.4912 - val_accuracy: 0.7780 - lr: 0.0037\n",
      "Epoch 16/100\n",
      "625/625 [==============================] - 283s 453ms/step - loss: 0.3145 - accuracy: 0.8641 - val_loss: 0.3309 - val_accuracy: 0.8538 - lr: 0.0033\n",
      "Epoch 17/100\n",
      "625/625 [==============================] - 281s 449ms/step - loss: 0.3013 - accuracy: 0.8694 - val_loss: 0.3082 - val_accuracy: 0.8604 - lr: 0.0030\n",
      "Epoch 18/100\n",
      "625/625 [==============================] - 280s 448ms/step - loss: 0.2869 - accuracy: 0.8777 - val_loss: 0.4112 - val_accuracy: 0.8062 - lr: 0.0027\n",
      "Epoch 19/100\n",
      "625/625 [==============================] - 281s 450ms/step - loss: 0.2751 - accuracy: 0.8844 - val_loss: 0.2674 - val_accuracy: 0.8898 - lr: 0.0025\n",
      "Epoch 20/100\n",
      "625/625 [==============================] - 282s 451ms/step - loss: 0.2650 - accuracy: 0.8875 - val_loss: 0.2248 - val_accuracy: 0.9058 - lr: 0.0022\n",
      "Epoch 21/100\n",
      "625/625 [==============================] - 280s 448ms/step - loss: 0.2595 - accuracy: 0.8917 - val_loss: 0.2496 - val_accuracy: 0.8934 - lr: 0.0020\n",
      "Epoch 22/100\n",
      "625/625 [==============================] - 283s 453ms/step - loss: 0.2410 - accuracy: 0.9000 - val_loss: 0.2224 - val_accuracy: 0.9080 - lr: 0.0018\n",
      "Epoch 23/100\n",
      "625/625 [==============================] - 285s 457ms/step - loss: 0.2424 - accuracy: 0.8967 - val_loss: 0.2365 - val_accuracy: 0.8974 - lr: 0.0017\n",
      "Epoch 24/100\n",
      "625/625 [==============================] - 285s 457ms/step - loss: 0.2300 - accuracy: 0.9046 - val_loss: 0.2024 - val_accuracy: 0.9176 - lr: 0.0015\n",
      "Epoch 25/100\n",
      "625/625 [==============================] - 284s 455ms/step - loss: 0.2241 - accuracy: 0.9085 - val_loss: 0.2179 - val_accuracy: 0.9078 - lr: 0.0014\n",
      "Epoch 26/100\n",
      "625/625 [==============================] - 285s 457ms/step - loss: 0.2162 - accuracy: 0.9120 - val_loss: 0.2180 - val_accuracy: 0.9132 - lr: 0.0012\n",
      "Epoch 27/100\n",
      "625/625 [==============================] - 285s 457ms/step - loss: 0.2192 - accuracy: 0.9087 - val_loss: 0.2032 - val_accuracy: 0.9154 - lr: 0.0011\n",
      "Epoch 28/100\n",
      "625/625 [==============================] - 286s 457ms/step - loss: 0.2035 - accuracy: 0.9139 - val_loss: 0.2175 - val_accuracy: 0.9100 - lr: 0.0010\n",
      "Epoch 29/100\n",
      "625/625 [==============================] - 285s 456ms/step - loss: 0.2020 - accuracy: 0.9176 - val_loss: 0.1881 - val_accuracy: 0.9234 - lr: 9.0718e-04\n",
      "Epoch 30/100\n",
      "625/625 [==============================] - 285s 455ms/step - loss: 0.2005 - accuracy: 0.9173 - val_loss: 0.1850 - val_accuracy: 0.9262 - lr: 8.2085e-04\n",
      "Epoch 31/100\n",
      "625/625 [==============================] - 285s 456ms/step - loss: 0.1884 - accuracy: 0.9212 - val_loss: 0.1808 - val_accuracy: 0.9270 - lr: 7.4274e-04\n",
      "Epoch 32/100\n",
      "625/625 [==============================] - 285s 455ms/step - loss: 0.1931 - accuracy: 0.9214 - val_loss: 0.1826 - val_accuracy: 0.9280 - lr: 6.7206e-04\n",
      "Epoch 33/100\n",
      "625/625 [==============================] - 285s 456ms/step - loss: 0.1863 - accuracy: 0.9251 - val_loss: 0.1732 - val_accuracy: 0.9308 - lr: 4.9787e-04\n",
      "Epoch 36/100\n",
      "625/625 [==============================] - 286s 457ms/step - loss: 0.1732 - accuracy: 0.9283 - val_loss: 0.1689 - val_accuracy: 0.9316 - lr: 4.0762e-04\n",
      "Epoch 38/100\n",
      "625/625 [==============================] - 286s 458ms/step - loss: 0.1740 - accuracy: 0.9293 - val_loss: 0.1751 - val_accuracy: 0.9272 - lr: 3.3373e-04\n",
      "Epoch 40/100\n",
      "625/625 [==============================] - 285s 456ms/step - loss: 0.1679 - accuracy: 0.9329 - val_loss: 0.1723 - val_accuracy: 0.9346 - lr: 2.7324e-04\n",
      "Epoch 42/100\n",
      "625/625 [==============================] - 287s 459ms/step - loss: 0.1663 - accuracy: 0.9322 - val_loss: 0.1573 - val_accuracy: 0.9368 - lr: 2.4724e-04\n",
      "Epoch 43/100\n",
      "625/625 [==============================] - 284s 454ms/step - loss: 0.1633 - accuracy: 0.9352 - val_loss: 0.1581 - val_accuracy: 0.9362 - lr: 2.2371e-04\n",
      "Epoch 44/100\n",
      "625/625 [==============================] - 301s 481ms/step - loss: 0.1652 - accuracy: 0.9324 - val_loss: 0.1517 - val_accuracy: 0.9390 - lr: 1.3569e-04\n",
      "Epoch 49/100\n",
      "625/625 [==============================] - 289s 463ms/step - loss: 0.1641 - accuracy: 0.9348 - val_loss: 0.1565 - val_accuracy: 0.9372 - lr: 1.2277e-04\n"
     ]
    }
   ],
   "source": [
    "loss= keras.losses.CategoricalCrossentropy()\n",
    "optimizer=keras.optimizers.Adam(learning_rate=.010)\n",
    "learning_rate_callback = tf.keras.callbacks.LearningRateScheduler(scheduler)\n",
    "callback =[model_checkpoint_callback,learning_rate_callback,tensorboard_callback,early_stopping_callback]\n",
    "conv_model.compile(loss='categorical_crossentropy',optimizer=optimizer,metrics=['accuracy'])\n",
    "history =conv_model.fit(train_generator,epochs=100,\n",
    "               validation_data=valid_generator,callbacks=callback)#,steps_per_epoch=2,validation_steps=2)"
   ]
  },
  {
   "cell_type": "code",
   "execution_count": 27,
   "metadata": {},
   "outputs": [
    {
     "data": {
      "image/png": "[encoded data removed]",
      "text/plain": [
       "<Figure size 432x288 with 1 Axes>"
      ]
     },
     "metadata": {
      "needs_background": "light"
     },
     "output_type": "display_data"
    }
   ],
   "source": [
    "from matplotlib import pyplot as plt\n",
    "%matplotlib inline\n",
    "plt.plot(history.history['accuracy'])\n",
    "plt.plot(history.history['val_accuracy'])\n",
    "plt.title('model accuracy')\n",
    "plt.ylabel('accuracy')\n",
    "plt.xlabel('epoch')\n",
    "plt.legend(['train', 'val'], loc='upper left')\n",
    "plt.show()"
   ]
  },
  {
   "cell_type": "code",
   "execution_count": 28,
   "metadata": {},
   "outputs": [
    {
     "data": {
      "image/png": "[encoded data removed]",
      "text/plain": [
       "<Figure size 432x288 with 1 Axes>"
      ]
     },
     "metadata": {
      "needs_background": "light"
     },
     "output_type": "display_data"
    }
   ],
   "source": [
    "from matplotlib import pyplot as plt\n",
    "%matplotlib inline\n",
    "plt.plot(history.history['loss'])\n",
    "plt.plot(history.history['val_loss'])\n",
    "plt.title('model loss')\n",
    "plt.ylabel('loss')\n",
    "plt.xlabel('epoch')\n",
    "plt.legend(['train', 'val'], loc='upper left')\n",
    "plt.show()"
   ]
  },
  {
   "cell_type": "code",
   "execution_count": 29,
   "metadata": {},
   "outputs": [],
   "source": [
    "#%load_ext tensorboard"
   ]
  },
  {
   "cell_type": "code",
   "execution_count": 30,
   "metadata": {},
   "outputs": [],
   "source": [
    "#!tensorboard --logdir=/kaggle/working/logs"
   ]
  },
  {
   "cell_type": "code",
   "execution_count": null,
   "metadata": {},
   "outputs": [],
   "source": []
  },
  {
   "cell_type": "code",
   "execution_count": null,
   "metadata": {},
   "outputs": [],
   "source": []
  }
 ],
 "metadata": {
  "kernelspec": {
   "display_name": "Python 3",
   "language": "python",
   "name": "python3"
  },
  "language_info": {
   "codemirror_mode": {
    "name": "ipython",
    "version": 3
   },
   "file_extension": ".py",
   "mimetype": "text/x-python",
   "name": "python",
   "nbconvert_exporter": "python",
   "pygments_lexer": "ipython3",
   "version": "3.7.6"
  }
 },
 "nbformat": 4,
 "nbformat_minor": 4
}
